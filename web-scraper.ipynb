{
 "metadata": {
  "language_info": {
   "codemirror_mode": {
    "name": "ipython",
    "version": 3
   },
   "file_extension": ".py",
   "mimetype": "text/x-python",
   "name": "python",
   "nbconvert_exporter": "python",
   "pygments_lexer": "ipython3",
   "version": "3.9.5"
  },
  "orig_nbformat": 2,
  "kernelspec": {
   "name": "python3",
   "display_name": "Python 3.9.5 64-bit ('.venv': venv)",
   "metadata": {
    "interpreter": {
     "hash": "4596a4b1767d4d46cc4fcaaf030b382f10a4fb7f392b4ba816261f30df612ff1"
    }
   }
  }
 },
 "nbformat": 4,
 "nbformat_minor": 2,
 "cells": [
  {
   "cell_type": "code",
   "execution_count": 60,
   "metadata": {},
   "outputs": [],
   "source": [
    "import requests\n",
    "import urllib.request\n",
    "import time\n",
    "from bs4 import BeautifulSoup"
   ]
  },
  {
   "cell_type": "code",
   "execution_count": 61,
   "metadata": {},
   "outputs": [],
   "source": [
    "# Wikipedia page for Portland, Oregon\n",
    "#URL = \"https://en.wikipedia.org/wiki/Portland,_Oregon\""
   ]
  },
  {
   "cell_type": "code",
   "execution_count": 62,
   "metadata": {},
   "outputs": [],
   "source": [
    "headers = {\"User-Agent\": \"Mozilla/5.0 (Macintosh; Intel Mac OS X 10_15_7) AppleWebKit/537.36 (KHTML, like Gecko) Chrome/92.0.4515.107 Safari/537.36\"}"
   ]
  },
  {
   "cell_type": "code",
   "execution_count": 63,
   "metadata": {},
   "outputs": [],
   "source": [
    "#page = requests.get(URL, headers=headers)"
   ]
  },
  {
   "cell_type": "code",
   "execution_count": 64,
   "metadata": {},
   "outputs": [],
   "source": [
    "#soup = BeautifulSoup(page.content, \"html.parser\")"
   ]
  },
  {
   "cell_type": "code",
   "execution_count": 89,
   "metadata": {},
   "outputs": [],
   "source": [
    "#needed = soup.find_all(\"sup\", class_ =\"noprint Inline-Template Template-Fact\")"
   ]
  },
  {
   "cell_type": "code",
   "execution_count": 95,
   "metadata": {},
   "outputs": [
    {
     "output_type": "execute_result",
     "data": {
      "text/plain": [
       "[<sup class=\"noprint Inline-Template Template-Fact\" style=\"white-space:nowrap;\">[<i><a href=\"/wiki/Wikipedia:Citation_needed\" title=\"Wikipedia:Citation needed\"><span title=\"This claim needs references to reliable sources. (September 2015)\">citation needed</span></a></i>]</sup>,\n",
       " <sup class=\"noprint Inline-Template Template-Fact\" style=\"white-space:nowrap;\">[<i><a href=\"/wiki/Wikipedia:Citation_needed\" title=\"Wikipedia:Citation needed\"><span title=\"This claim needs references to reliable sources. (March 2018)\">citation needed</span></a></i>]</sup>,\n",
       " <sup class=\"noprint Inline-Template Template-Fact\" style=\"white-space:nowrap;\">[<i><a href=\"/wiki/Wikipedia:Citation_needed\" title=\"Wikipedia:Citation needed\"><span title=\"This claim needs references to reliable sources. (May 2020)\">citation needed</span></a></i>]</sup>]"
      ]
     },
     "metadata": {},
     "execution_count": 95
    }
   ],
   "source": [
    "#needed"
   ]
  },
  {
   "cell_type": "code",
   "execution_count": 69,
   "metadata": {},
   "outputs": [
    {
     "output_type": "execute_result",
     "data": {
      "text/plain": [
       "3"
      ]
     },
     "metadata": {},
     "execution_count": 69
    }
   ],
   "source": [
    "#len(needed)"
   ]
  },
  {
   "cell_type": "code",
   "execution_count": 98,
   "metadata": {},
   "outputs": [],
   "source": [
    "def get_citations_needed_count(web_page):\n",
    "    page = requests.get(web_page, headers=headers)\n",
    "    soup = BeautifulSoup(page.content, \"html.parser\")\n",
    "    needed = soup.find_all(\"sup\", class_ =\"noprint Inline-Template Template-Fact\")\n",
    "    return len(needed)"
   ]
  },
  {
   "cell_type": "code",
   "execution_count": 99,
   "metadata": {},
   "outputs": [
    {
     "output_type": "execute_result",
     "data": {
      "text/plain": [
       "3"
      ]
     },
     "metadata": {},
     "execution_count": 99
    }
   ],
   "source": [
    "get_citations_needed_count(\"https://en.wikipedia.org/wiki/Portland,_Oregon\")"
   ]
  },
  {
   "source": [
    "## There are 3 citations needed"
   ],
   "cell_type": "markdown",
   "metadata": {}
  },
  {
   "cell_type": "code",
   "execution_count": 97,
   "metadata": {},
   "outputs": [
    {
     "output_type": "execute_result",
     "data": {
      "text/plain": [
       "<p>Portland also hosts numerous cycling events and has become an elite bicycle racing destination.<sup class=\"noprint Inline-Template Template-Fact\" style=\"white-space:nowrap;\">[<i><a href=\"/wiki/Wikipedia:Citation_needed\" title=\"Wikipedia:Citation needed\"><span title=\"This claim needs references to reliable sources. (March 2018)\">citation needed</span></a></i>]</sup> The <a href=\"/wiki/Oregon_Bicycle_Racing_Association\" title=\"Oregon Bicycle Racing Association\">Oregon Bicycle Racing Association</a> supports hundreds of official bicycling events every year. Weekly events at <a class=\"mw-redirect\" href=\"/wiki/Alpenrose_Velodrome\" title=\"Alpenrose Velodrome\">Alpenrose Velodrome</a> and <a href=\"/wiki/Portland_International_Raceway\" title=\"Portland International Raceway\">Portland International Raceway</a> allow for racing nearly every night of the week from March through September. <a class=\"mw-redirect\" href=\"/wiki/Cyclocross\" title=\"Cyclocross\">Cyclocross</a> races, such as the <a href=\"/wiki/Cross_Crusade\" title=\"Cross Crusade\">Cross Crusade</a>, can attract over 1,000 riders and spectators.<sup class=\"reference\" id=\"cite_ref-218\"><a href=\"#cite_note-218\">[215]</a></sup>\n",
       "</p>"
      ]
     },
     "metadata": {},
     "execution_count": 97
    }
   ],
   "source": [
    "needed[1].parent"
   ]
  }
 ]
}