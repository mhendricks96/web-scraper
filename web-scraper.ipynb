{
 "metadata": {
  "language_info": {
   "codemirror_mode": {
    "name": "ipython",
    "version": 3
   },
   "file_extension": ".py",
   "mimetype": "text/x-python",
   "name": "python",
   "nbconvert_exporter": "python",
   "pygments_lexer": "ipython3",
   "version": "3.9.5"
  },
  "orig_nbformat": 2,
  "kernelspec": {
   "name": "python3",
   "display_name": "Python 3.9.5 64-bit ('.venv': venv)",
   "metadata": {
    "interpreter": {
     "hash": "4596a4b1767d4d46cc4fcaaf030b382f10a4fb7f392b4ba816261f30df612ff1"
    }
   }
  }
 },
 "nbformat": 4,
 "nbformat_minor": 2,
 "cells": [
  {
   "cell_type": "code",
   "execution_count": 60,
   "metadata": {},
   "outputs": [],
   "source": [
    "import requests\n",
    "import urllib.request\n",
    "import time\n",
    "from bs4 import BeautifulSoup"
   ]
  },
  {
   "cell_type": "code",
   "execution_count": 102,
   "metadata": {},
   "outputs": [],
   "source": [
    "# Wikpedia page for Portland, Oregon\n",
    "#URL = \"https://en.wikipedia.org/wiki/Portland,_Oregon\""
   ]
  },
  {
   "cell_type": "code",
   "execution_count": 62,
   "metadata": {},
   "outputs": [],
   "source": [
    "headers = {\"User-Agent\": \"Mozilla/5.0 (Macintosh; Intel Mac OS X 10_15_7) AppleWebKit/537.36 (KHTML, like Gecko) Chrome/92.0.4515.107 Safari/537.36\"}"
   ]
  },
  {
   "cell_type": "code",
   "execution_count": 103,
   "metadata": {},
   "outputs": [],
   "source": [
    "#page = requests.get(URL, headers=headers)"
   ]
  },
  {
   "cell_type": "code",
   "execution_count": 104,
   "metadata": {},
   "outputs": [],
   "source": [
    "#soup = BeautifulSoup(page.content, \"html.parser\")"
   ]
  },
  {
   "cell_type": "code",
   "execution_count": 105,
   "metadata": {},
   "outputs": [],
   "source": [
    "#needed = soup.find_all(\"sup\", class_ =\"noprint Inline-Template Template-Fact\")"
   ]
  },
  {
   "cell_type": "code",
   "execution_count": 106,
   "metadata": {},
   "outputs": [],
   "source": [
    "#needed"
   ]
  },
  {
   "cell_type": "code",
   "execution_count": 107,
   "metadata": {},
   "outputs": [],
   "source": [
    "#len(needed)"
   ]
  },
  {
   "cell_type": "code",
   "execution_count": 98,
   "metadata": {},
   "outputs": [],
   "source": [
    "def get_citations_needed_count(web_page):\n",
    "    page = requests.get(web_page, headers=headers)\n",
    "    soup = BeautifulSoup(page.content, \"html.parser\")\n",
    "    needed = soup.find_all(\"sup\", class_ =\"noprint Inline-Template Template-Fact\")\n",
    "    return len(needed)"
   ]
  },
  {
   "cell_type": "code",
   "execution_count": 101,
   "metadata": {},
   "outputs": [
    {
     "output_type": "execute_result",
     "data": {
      "text/plain": [
       "3"
      ]
     },
     "metadata": {},
     "execution_count": 101
    }
   ],
   "source": [
    "get_citations_needed_count(\"https://en.wikipedia.org/wiki/Portland,_Oregon\")"
   ]
  },
  {
   "source": [
    "## There are 3 citations needed"
   ],
   "cell_type": "markdown",
   "metadata": {}
  },
  {
   "cell_type": "code",
   "execution_count": 126,
   "metadata": {},
   "outputs": [],
   "source": [
    "def get_citations_needed_report(web_page):\n",
    "    page = requests.get(web_page, headers=headers)\n",
    "    soup = BeautifulSoup(page.content, \"html.parser\")\n",
    "    needed = soup.find_all(\"sup\", class_ =\"noprint Inline-Template Template-Fact\")\n",
    "    for i in needed:\n",
    "        print(i.parent.get_text())"
   ]
  },
  {
   "cell_type": "code",
   "execution_count": 134,
   "metadata": {},
   "outputs": [
    {
     "output_type": "stream",
     "name": "stdout",
     "text": [
      "According to the United States Census Bureau, the city has an area of 145.09 square miles (375.78 km2), of which 133.43 square miles (345.58 km2) is land and 11.66 square miles (30.20 km2) is water.[66] Although almost all of Portland is within Multnomah County, small portions of the city are within Clackamas and Washington Counties, with populations estimated at 785 and 1,455, respectively.[citation needed]\n\nPortland also hosts numerous cycling events and has become an elite bicycle racing destination.[citation needed] The Oregon Bicycle Racing Association supports hundreds of official bicycling events every year. Weekly events at Alpenrose Velodrome and Portland International Raceway allow for racing nearly every night of the week from March through September. Cyclocross races, such as the Cross Crusade, can attract over 1,000 riders and spectators.[215]\n\nSmaller local newspapers, distributed free of charge in newspaper boxes and at venues around the city, include the Portland Tribune (general-interest paper published on Tuesdays and Thursdays), Willamette Week (general-interest alternative weekly published on Wednesdays), and The Portland Mercury (another alt-weekly, targeted at younger urban readers and published every other Thursday). The Portland area also has newspapers that are published for specific communities, including The Asian Reporter (a weekly covering Asian news, both international and local) and The Skanner (a weekly African-American newspaper covering both local and national news). The Portland Business Journal covers business-related news on a weekly basis, as does The Daily Journal of Commerce, its main competitor. Portland Monthly is a monthly news and culture magazine. The Bee, over 105 years old, is another neighborhood newspaper serving the inner southeast neighborhoods.[citation needed]\n\n"
     ]
    }
   ],
   "source": [
    "get_citations_needed_report(\"https://en.wikipedia.org/wiki/Portland,_Oregon\")"
   ]
  },
  {
   "source": [
    "## The above paragraphs need citation"
   ],
   "cell_type": "markdown",
   "metadata": {}
  },
  {
   "cell_type": "code",
   "execution_count": null,
   "metadata": {},
   "outputs": [],
   "source": []
  }
 ]
}